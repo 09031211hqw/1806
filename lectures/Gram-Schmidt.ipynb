{
 "cells": [
  {
   "cell_type": "markdown",
   "metadata": {},
   "source": [
    "# Gram–Schmidt orthogonalization\n",
    "\n",
    "Chapter 4.4 illustrates a hand technique for computing orthonormal vectors q₁,q₂,… from arbitrary vectors a,b,… with the property that the first k vectors in the original set span the same subspace as the orthonormal set, and this is true for k=1,2,3,...\n",
    "\n",
    "We will move this hand technique to the computer in this notebook.  Some of you will notice that on the computer one can combine operations in a simpler block fashion.  "
   ]
  },
  {
   "cell_type": "code",
   "execution_count": 1,
   "metadata": {},
   "outputs": [
    {
     "data": {
      "text/plain": [
       "6×4 Array{Int64,2}:\n",
       " 7  9  1   2\n",
       " 9  8  2   8\n",
       " 9  7  9   8\n",
       " 6  8  3  10\n",
       " 5  5  2   7\n",
       " 8  5  8   6"
      ]
     },
     "execution_count": 1,
     "metadata": {},
     "output_type": "execute_result"
    }
   ],
   "source": [
    "# start with four arbitrary vectors in ℜⁿ with random entries from 1 to 10.\n",
    "n = 6\n",
    "a = rand(1:10,n)\n",
    "b = rand(1:10,n)\n",
    "c = rand(1:10,n)\n",
    "d = rand(1:10,n)\n",
    "[a b c d] # show them as the columns of a 6×4 matrix"
   ]
  },
  {
   "cell_type": "code",
   "execution_count": 2,
   "metadata": {},
   "outputs": [],
   "source": [
    "# The capital letters are vectors, but they are all orthogonal and\n",
    "#span([A]) = span([a])\n",
    "#span([A B]) = span([a b])\n",
    "#span([A B C]) = span([a b c] )\n",
    "#span([A B C D]) = span([a b c d])\n",
    "A = a\n",
    "B = b - A*(A'b)/(A'A) \n",
    "C = c - A*(A'c)/(A'A) - B*(B'c)/(B'B)\n",
    "D = d - A*(A'd)/(A'A) - B*(B'd)/(B'B) - C*(C'd)/(C'C);"
   ]
  },
  {
   "cell_type": "code",
   "execution_count": 3,
   "metadata": {},
   "outputs": [],
   "source": [
    "# now we normalize\n",
    "q₁ = normalize(A) # same as A/norm(A)\n",
    "q₂ = normalize(B)\n",
    "q₃ = normalize(C)\n",
    "q₄ = normalize(D);"
   ]
  },
  {
   "cell_type": "code",
   "execution_count": 4,
   "metadata": {},
   "outputs": [
    {
     "data": {
      "text/plain": [
       "6×4 Array{Float64,2}:\n",
       " 0.381881   0.561715   -0.0947779  -0.709469\n",
       " 0.49099   -0.0736131  -0.747695    0.218292\n",
       " 0.49099   -0.296442    0.46911    -0.101204\n",
       " 0.327327   0.545135    0.419195    0.5038  \n",
       " 0.272772   0.0828977  -0.113322    0.405789\n",
       " 0.436436  -0.53585     0.15277    -0.142407"
      ]
     },
     "execution_count": 4,
     "metadata": {},
     "output_type": "execute_result"
    }
   ],
   "source": [
    "# Gather into a matrix\n",
    "Q = [q₁ q₂ q₃ q₄]"
   ]
  },
  {
   "cell_type": "code",
   "execution_count": 5,
   "metadata": {},
   "outputs": [
    {
     "data": {
      "text/plain": [
       "4×4 Array{Float64,2}:\n",
       "  1.0           3.04542e-17  3.32337e-17  -5.83427e-17\n",
       "  3.04542e-17   1.0          3.35018e-17  -3.87994e-17\n",
       "  3.32337e-17   3.35018e-17  1.0           5.7439e-19 \n",
       " -5.83427e-17  -3.87994e-17  5.7439e-19    1.0        "
      ]
     },
     "execution_count": 5,
     "metadata": {},
     "output_type": "execute_result"
    }
   ],
   "source": [
    "#check that Q has orthonormal columns\n",
    "Q'Q"
   ]
  },
  {
   "cell_type": "code",
   "execution_count": 6,
   "metadata": {},
   "outputs": [
    {
     "data": {
      "text/plain": [
       "4×4 Array{Float64,2}:\n",
       "  2.22045e-16   3.04542e-17  3.32337e-17  -5.83427e-17\n",
       "  3.04542e-17  -3.33067e-16  3.35018e-17  -3.87994e-17\n",
       "  3.32337e-17   3.35018e-17  0.0           5.7439e-19 \n",
       " -5.83427e-17  -3.87994e-17  5.7439e-19    0.0        "
      ]
     },
     "execution_count": 6,
     "metadata": {},
     "output_type": "execute_result"
    }
   ],
   "source": [
    "Q'Q - I"
   ]
  },
  {
   "cell_type": "code",
   "execution_count": 7,
   "metadata": {},
   "outputs": [
    {
     "data": {
      "text/plain": [
       "true"
      ]
     },
     "execution_count": 7,
     "metadata": {},
     "output_type": "execute_result"
    }
   ],
   "source": [
    "Q'Q ≈ eye(4)"
   ]
  },
  {
   "cell_type": "code",
   "execution_count": 8,
   "metadata": {},
   "outputs": [
    {
     "data": {
      "text/plain": [
       "4×4 Array{Float64,2}:\n",
       " 336.0           3.55271e-15   0.0          -1.77636e-15\n",
       "   3.55271e-15  20.1399        4.98219e-16  -3.3168e-15 \n",
       "   0.0           4.98219e-16  23.8624       -6.2813e-16 \n",
       "  -1.77636e-15  -3.3168e-15   -6.2813e-16   42.7958     "
      ]
     },
     "execution_count": 8,
     "metadata": {},
     "output_type": "execute_result"
    }
   ],
   "source": [
    "# compare to what happens if we didn't normalize:\n",
    "M = [A B C D]\n",
    "M'M # = diagonal matrix (orthogonal columns, but not orthonormal)"
   ]
  },
  {
   "cell_type": "code",
   "execution_count": 9,
   "metadata": {},
   "outputs": [
    {
     "data": {
      "text/plain": [
       "4×4 Array{Float64,2}:\n",
       " 18.3303  16.9664   10.8018   16.4209 \n",
       "  0.0      4.48775  -4.73909   0.97952\n",
       "  0.0      0.0       4.88492   1.89707\n",
       "  0.0     -0.0       0.0       6.54185"
      ]
     },
     "execution_count": 9,
     "metadata": {},
     "output_type": "execute_result"
    }
   ],
   "source": [
    "# What does this triangular structure say?\n",
    "round.(Q'*[a b c d], 5)"
   ]
  },
  {
   "cell_type": "markdown",
   "metadata": {},
   "source": [
    "## QR factorization\n",
    "\n",
    "How do we do all this at once on a computer? We ask the computer to factor the matrix as $QR$ (orthonormal columns times upper triangular)."
   ]
  },
  {
   "cell_type": "code",
   "execution_count": 10,
   "metadata": {},
   "outputs": [
    {
     "data": {
      "text/plain": [
       "([-0.381881 0.561715 0.0947779 0.709469; -0.49099 -0.0736131 0.747695 -0.218292; … ; -0.272772 0.0828977 0.113322 -0.405789; -0.436436 -0.53585 -0.15277 0.142407], [-18.3303 -16.9664 -10.8018 -16.4209; 0.0 4.48775 -4.73909 0.979519; 0.0 0.0 -4.88492 -1.89707; 0.0 0.0 0.0 -6.54185])"
      ]
     },
     "execution_count": 10,
     "metadata": {},
     "output_type": "execute_result"
    }
   ],
   "source": [
    "Q2,R = qr([a b c d])"
   ]
  },
  {
   "cell_type": "code",
   "execution_count": 11,
   "metadata": {},
   "outputs": [
    {
     "data": {
      "text/plain": [
       "4×4 Array{Float64,2}:\n",
       " -1.0  -0.0  -0.0   0.0\n",
       "  0.0   1.0  -0.0  -0.0\n",
       " -0.0   0.0  -1.0  -0.0\n",
       " -0.0  -0.0   0.0  -1.0"
      ]
     },
     "execution_count": 11,
     "metadata": {},
     "output_type": "execute_result"
    }
   ],
   "source": [
    "round.(Q'Q2, 5) # almost I, up to signs"
   ]
  },
  {
   "cell_type": "code",
   "execution_count": 12,
   "metadata": {},
   "outputs": [
    {
     "data": {
      "text/plain": [
       "4×4 Array{Float64,2}:\n",
       " -18.3303  -16.9664   -10.8018   -16.4209  \n",
       "   0.0       4.48775   -4.73909    0.979519\n",
       "   0.0       0.0       -4.88492   -1.89707 \n",
       "   0.0       0.0        0.0       -6.54185 "
      ]
     },
     "execution_count": 12,
     "metadata": {},
     "output_type": "execute_result"
    }
   ],
   "source": [
    "R # Recognize this matrix?"
   ]
  },
  {
   "cell_type": "code",
   "execution_count": 13,
   "metadata": {},
   "outputs": [
    {
     "data": {
      "text/plain": [
       "true"
      ]
     },
     "execution_count": 13,
     "metadata": {},
     "output_type": "execute_result"
    }
   ],
   "source": [
    "Q2*R ≈ [a b c d]"
   ]
  }
 ],
 "metadata": {
  "kernelspec": {
   "display_name": "Julia 0.6.3",
   "language": "julia",
   "name": "julia-0.6"
  },
  "language_info": {
   "file_extension": ".jl",
   "mimetype": "application/julia",
   "name": "julia",
   "version": "0.6.3"
  }
 },
 "nbformat": 4,
 "nbformat_minor": 2
}
