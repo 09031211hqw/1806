{
 "cells": [
  {
   "cell_type": "markdown",
   "metadata": {},
   "source": [
    "# Gram–Schmidt orthogonalization\n",
    "\n",
    "Chapter 4.4 illustrates a hand technique for computing orthonormal vectors q₁,q₂,… from arbitrary vectors a,b,… with the property that the first k vectors in the original set span the same subspace as the orthonormal set, and this is true for k=1,2,3,...\n",
    "\n",
    "We will move this hand technique to the computer in this notebook.  Some of you will notice that on the computer one can combine operations in a simpler block fashion.  "
   ]
  },
  {
   "cell_type": "code",
   "execution_count": 1,
   "metadata": {},
   "outputs": [
    {
     "data": {
      "text/plain": [
       "6×4 Array{Int64,2}:\n",
       " 10  3  1  8\n",
       "  6  9  2  4\n",
       "  5  6  4  6\n",
       "  3  9  8  1\n",
       " 10  8  8  6\n",
       "  6  9  8  6"
      ]
     },
     "execution_count": 1,
     "metadata": {},
     "output_type": "execute_result"
    }
   ],
   "source": [
    "# start with four arbitrary independent vectors in ℝⁿ\n",
    "# with random entries from 1 to 10.\n",
    "m = 6\n",
    "a₁ = rand(1:10,m)\n",
    "a₂ = rand(1:10,m)\n",
    "a₃ = rand(1:10,m)\n",
    "a₄ = rand(1:10,m)\n",
    "A = [a₁ a₂ a₃ a₄] # show them as the columns of a 6×4 matrix A"
   ]
  },
  {
   "cell_type": "code",
   "execution_count": 2,
   "metadata": {},
   "outputs": [
    {
     "data": {
      "text/plain": [
       "6×4 Array{Float64,2}:\n",
       " 10.0  -5.98693   -0.84916    0.196218\n",
       "  6.0   3.60784   -4.51011   -0.765776\n",
       "  5.0   1.50654   -0.299966   2.20863 \n",
       "  3.0   6.30392    1.36956   -1.05541 \n",
       " 10.0  -0.986928   2.40041   -1.48813 \n",
       "  6.0   3.60784    1.48989    1.60614 "
      ]
     },
     "execution_count": 2,
     "metadata": {},
     "output_type": "execute_result"
    }
   ],
   "source": [
    "# The vₖ are vectors, but they are all orthogonal and\n",
    "#span([v₁]) = span([a₁])\n",
    "#span([v₁ v₂]) = span([a₁ a₂])\n",
    "#span([v₁ v₂ v₃]) = span([a₁ a₂ a₃] )\n",
    "#span([v₁ v₂ v₃ v₄]) = span([a₁ a₂ a₃ a₄])\n",
    "v₁ = a₁\n",
    "v₂ = a₂ - v₁*(v₁'a₂)/(v₁'v₁)\n",
    "v₃ = a₃ - v₁*(v₁'a₃)/(v₁'v₁) - v₂*(v₂'a₃)/(v₂'v₂)\n",
    "v₄ = a₄ - v₁*(v₁'a₄)/(v₁'v₁) - v₂*(v₂'a₄)/(v₂'v₂) - v₃*(v₃'a₄)/(v₃'v₃)\n",
    "\n",
    "# gather into a matrix V with orthogonal but *not* orthonormal columns\n",
    "V = [v₁ v₂ v₃ v₄]"
   ]
  },
  {
   "cell_type": "code",
   "execution_count": 3,
   "metadata": {},
   "outputs": [
    {
     "data": {
      "text/plain": [
       "6×4 Array{Float64,2}:\n",
       " 0.571662  -0.584656   -0.15249     0.0580865\n",
       " 0.342997   0.352325   -0.809915   -0.226693 \n",
       " 0.285831   0.147121   -0.0538671   0.653822 \n",
       " 0.171499   0.615612    0.245942   -0.312434 \n",
       " 0.571662  -0.0963788   0.43106    -0.440532 \n",
       " 0.342997   0.352325    0.26755     0.475467 "
      ]
     },
     "execution_count": 3,
     "metadata": {},
     "output_type": "execute_result"
    }
   ],
   "source": [
    "# now we normalize\n",
    "q₁ = normalize(v₁) # same as A/norm(A)\n",
    "q₂ = normalize(v₂)\n",
    "q₃ = normalize(v₃)\n",
    "q₄ = normalize(v₄);\n",
    "\n",
    "# Gather into a matrix Q with orthonormal columns\n",
    "Q = [q₁ q₂ q₃ q₄]"
   ]
  },
  {
   "cell_type": "code",
   "execution_count": 4,
   "metadata": {},
   "outputs": [
    {
     "data": {
      "text/plain": [
       "4×4 Array{Float64,2}:\n",
       "  1.0          -2.05686e-17   3.85245e-17   2.5394e-16 \n",
       " -2.05686e-17   1.0          -2.49462e-17   1.14317e-16\n",
       "  3.85245e-17  -2.49462e-17   1.0          -1.87721e-16\n",
       "  2.5394e-16    1.14317e-16  -1.87721e-16   1.0        "
      ]
     },
     "execution_count": 4,
     "metadata": {},
     "output_type": "execute_result"
    }
   ],
   "source": [
    "#check that Q has orthonormal columns\n",
    "Q'Q"
   ]
  },
  {
   "cell_type": "code",
   "execution_count": 5,
   "metadata": {},
   "outputs": [
    {
     "data": {
      "text/plain": [
       "4×4 Array{Float64,2}:\n",
       "  2.22045e-16  -2.05686e-17   3.85245e-17   2.5394e-16 \n",
       " -2.05686e-17   2.22045e-16  -2.49462e-17   1.14317e-16\n",
       "  3.85245e-17  -2.49462e-17   2.22045e-16  -1.87721e-16\n",
       "  2.5394e-16    1.14317e-16  -1.87721e-16  -1.11022e-16"
      ]
     },
     "execution_count": 5,
     "metadata": {},
     "output_type": "execute_result"
    }
   ],
   "source": [
    "Q'Q - I"
   ]
  },
  {
   "cell_type": "code",
   "execution_count": 6,
   "metadata": {},
   "outputs": [
    {
     "data": {
      "text/plain": [
       "true"
      ]
     },
     "execution_count": 6,
     "metadata": {},
     "output_type": "execute_result"
    }
   ],
   "source": [
    "Q'Q ≈ eye(4)"
   ]
  },
  {
   "cell_type": "code",
   "execution_count": 7,
   "metadata": {},
   "outputs": [
    {
     "data": {
      "text/plain": [
       "4×4 Array{Float64,2}:\n",
       " 306.0           -1.06581e-14   6.21725e-15   1.33227e-14\n",
       "  -1.06581e-14  104.859        -2.26011e-15   3.98226e-15\n",
       "   6.21725e-15   -2.26011e-15  31.0096       -3.58722e-15\n",
       "   1.33227e-14    3.98226e-15  -3.58722e-15  11.4111     "
      ]
     },
     "execution_count": 7,
     "metadata": {},
     "output_type": "execute_result"
    }
   ],
   "source": [
    "# compare to what happens if we didn't normalize:\n",
    "V'V # = diagonal matrix (orthogonal columns, but not orthonormal)"
   ]
  },
  {
   "cell_type": "code",
   "execution_count": 8,
   "metadata": {},
   "outputs": [
    {
     "data": {
      "text/plain": [
       "4×4 Array{Float64,2}:\n",
       " 17.4929  15.7207  11.0902   13.3197 \n",
       "  0.0     10.2401   7.68095  -0.23393\n",
       "  0.0      0.0      5.56863  -0.34518\n",
       "  0.0      0.0      0.0       3.37803"
      ]
     },
     "execution_count": 8,
     "metadata": {},
     "output_type": "execute_result"
    }
   ],
   "source": [
    "# What does this triangular structure say?\n",
    "round.(Q'A, 5)"
   ]
  },
  {
   "cell_type": "markdown",
   "metadata": {},
   "source": [
    "## QR factorization\n",
    "\n",
    "How do we do all this at once on a computer? We ask the computer to factor the matrix as $QR$ (orthonormal columns times upper triangular)."
   ]
  },
  {
   "cell_type": "code",
   "execution_count": 9,
   "metadata": {},
   "outputs": [
    {
     "data": {
      "text/plain": [
       "([-0.571662 0.584656 0.15249 0.0580865; -0.342997 -0.352325 0.809915 -0.226693; … ; -0.571662 0.0963788 -0.43106 -0.440532; -0.342997 -0.352325 -0.26755 0.475467], [-17.4929 -15.7207 -11.0902 -13.3197; 0.0 -10.2401 -7.68095 0.233926; 0.0 0.0 -5.56863 0.34518; 0.0 0.0 0.0 3.37803])"
      ]
     },
     "execution_count": 9,
     "metadata": {},
     "output_type": "execute_result"
    }
   ],
   "source": [
    "Q2,R = qr(A)"
   ]
  },
  {
   "cell_type": "code",
   "execution_count": 10,
   "metadata": {},
   "outputs": [
    {
     "data": {
      "text/plain": [
       "4×4 Array{Float64,2}:\n",
       " -1.0   0.0   0.0   0.0\n",
       "  0.0  -1.0   0.0   0.0\n",
       "  0.0   0.0  -1.0  -0.0\n",
       " -0.0  -0.0   0.0   1.0"
      ]
     },
     "execution_count": 10,
     "metadata": {},
     "output_type": "execute_result"
    }
   ],
   "source": [
    "round.(Q'Q2, 5) # almost I, up to signs"
   ]
  },
  {
   "cell_type": "code",
   "execution_count": 11,
   "metadata": {},
   "outputs": [
    {
     "data": {
      "text/plain": [
       "4×4 Array{Float64,2}:\n",
       " -17.4929  -15.7207  -11.0902   -13.3197  \n",
       "   0.0     -10.2401   -7.68095    0.233926\n",
       "   0.0       0.0      -5.56863    0.34518 \n",
       "   0.0       0.0       0.0        3.37803 "
      ]
     },
     "execution_count": 11,
     "metadata": {},
     "output_type": "execute_result"
    }
   ],
   "source": [
    "R # Recognize this matrix?"
   ]
  },
  {
   "cell_type": "code",
   "execution_count": 13,
   "metadata": {},
   "outputs": [
    {
     "data": {
      "text/plain": [
       "true"
      ]
     },
     "execution_count": 13,
     "metadata": {},
     "output_type": "execute_result"
    }
   ],
   "source": [
    "Q2*R ≈ A"
   ]
  }
 ],
 "metadata": {
  "kernelspec": {
   "display_name": "Julia 0.6.3",
   "language": "julia",
   "name": "julia-0.6"
  },
  "language_info": {
   "file_extension": ".jl",
   "mimetype": "application/julia",
   "name": "julia",
   "version": "0.6.3"
  }
 },
 "nbformat": 4,
 "nbformat_minor": 2
}
