{
 "cells": [
  {
   "cell_type": "code",
   "execution_count": 1,
   "metadata": {},
   "outputs": [],
   "source": [
    "# Pkg.add([\"Polynomials\", \"PyPlot\", \"QuadGK\"]) uncomment to install if needed\n",
    "using Polynomials, PyPlot, QuadGK"
   ]
  },
  {
   "cell_type": "markdown",
   "metadata": {
    "collapsed": true
   },
   "source": [
    "# Dot products of functions\n",
    "\n",
    "We can apply the Gram–Schmidt process to *any* vector space as long as we **define a dot product** (also called an **inner product**).   (Technically, a continuous (\"complete\") vector space equipped with an inner product is called a **Hilbert space**.)\n",
    "\n",
    "For column vectors, the usual dot product is to multiply the components and add them up.\n",
    "\n",
    "But (real-valued) *functions* $f(x)$ also define a vector space (you can add, subtract, and multiply by constants).  In particular, consider functions defined on the interval $x \\in [-1,1]$.   The \"components\" of $f$ can be viewed as its *values* $f(x)$ at each point in the domain, and the obvious analogue of \"summing the components\" is the **integral**.   Hence, the most obvious \"dot product\" of two functions in this space is:\n",
    "\n",
    "$$\n",
    "f \\cdot g = \\int_{-1}^1 f(x) g(x) \\, dx\n",
    "$$\n",
    "\n",
    "Such a generalized inner product is commonly denoted $\\langle f, g \\rangle$ (or $\\langle f | g \\rangle$ in physics).\n",
    "\n",
    "This satisfies the [key properties](https://en.wikipedia.org/wiki/Inner_product_space#Elementary_properties) of dot products that make linear algebra \"work\":\n",
    "\n",
    "* **symmetry**: $f \\cdot g = g \\cdot f$\n",
    "* **linearity**: $f \\cdot (\\alpha g + \\beta h) = \\alpha (f\\cdot g) + \\beta (f \\cdot h)$\n",
    "* **positivity**: $f \\cdot f = \\Vert f \\Vert^2 \\ge 0$, and $=0$ only if $f = 0$ ([almost everywhere](https://en.wikipedia.org/wiki/Almost_everywhere)).\n",
    "\n",
    "As long as the dot product has these properties, much of what we do in 18.06 will \"just work\" for functions too.  **Gram–Schmidt will just work**."
   ]
  },
  {
   "cell_type": "markdown",
   "metadata": {},
   "source": [
    "# Orthogonal polynomials\n",
    "\n",
    "In particular, let us consider a subspace of functions defined on $[-1,1]$: **polynomials** $p(x)$ (of any degree).\n",
    "\n",
    "One possible basis of polynomials is simply:\n",
    "\n",
    "$$\n",
    "{1, x, x^2, x^3, \\ldots}\n",
    "$$\n",
    "\n",
    "(There are infinitely many polynomials in this basis because this vector space is **infinite-dimensional**.)\n",
    "\n",
    "Instead, let us apply Gram–Schmidt to this basis in order to get an **orthogonal basis of polynomials** known as the [Legendre polynomials](https://en.wikipedia.org/wiki/Legendre_polynomials)."
   ]
  },
  {
   "cell_type": "markdown",
   "metadata": {},
   "source": [
    "## Julia code\n",
    "\n",
    "I'll use the [Polynomials package](https://github.com/Keno/Polynomials.jl) to do polynomial arithmetic for me.\n",
    "\n",
    "However, I'll need to define a few extra methods to perform my dot products from above, and I also want to display (\"pretty print\") the polynomials a bit more nicely than the default."
   ]
  },
  {
   "cell_type": "code",
   "execution_count": 2,
   "metadata": {},
   "outputs": [
    {
     "data": {
      "text/plain": [
       "polydot (generic function with 1 method)"
      ]
     },
     "execution_count": 2,
     "metadata": {},
     "output_type": "execute_result"
    }
   ],
   "source": [
    "# compute the definite integral of p(x) from a to b\n",
    "function Polynomials.polyint(p::Poly, a, b)\n",
    "    pi = polyint(p)\n",
    "    pi(b) - pi(a)\n",
    "end\n",
    "# compute the dot product ⟨p,q⟩ = ∫p(x)q(x) on [-1,1]\n",
    "polydot(p::Poly, q::Poly) = polyint(p*q, -1,1)"
   ]
  },
  {
   "cell_type": "code",
   "execution_count": 3,
   "metadata": {},
   "outputs": [],
   "source": [
    "# force IJulia to display as LaTeX rather than HTML\n",
    "Base.mimewritable(::MIME\"text/html\", ::Poly) = false"
   ]
  },
  {
   "cell_type": "code",
   "execution_count": 4,
   "metadata": {},
   "outputs": [
    {
     "data": {
      "text/latex": [
       "$3 + 4\\cdot x + 5\\cdot x^{2} + 6\\cdot x^{3}$"
      ],
      "text/plain": [
       "Poly(3 + 4*x + 5*x^2 + 6*x^3)"
      ]
     },
     "execution_count": 4,
     "metadata": {},
     "output_type": "execute_result"
    }
   ],
   "source": [
    "Poly([3,4,5,6])"
   ]
  },
  {
   "cell_type": "code",
   "execution_count": 5,
   "metadata": {},
   "outputs": [
    {
     "data": {
      "text/latex": [
       "$9 + 24\\cdot x + 46\\cdot x^{2} + 76\\cdot x^{3} + 73\\cdot x^{4} + 60\\cdot x^{5} + 36\\cdot x^{6}$"
      ],
      "text/plain": [
       "Poly(9 + 24*x + 46*x^2 + 76*x^3 + 73*x^4 + 60*x^5 + 36*x^6)"
      ]
     },
     "execution_count": 5,
     "metadata": {},
     "output_type": "execute_result"
    }
   ],
   "source": [
    "Poly([3,4,5,6])^2"
   ]
  },
  {
   "cell_type": "markdown",
   "metadata": {},
   "source": [
    "## Gram–Schmidt on polynomials\n",
    "\n",
    "Now, let's apply Gram–Schmidt on the polynomials $a_i = x^i$ for $i = 0, 1, \\ldots$.\n",
    "\n",
    "Ordinarily, in Gram–Schmidt, I would normalize each result $p(x)$ by dividing by $\\Vert p \\Vert = \\sqrt{p \\cdot p}$, but that will result in a lot of annoying square roots.  Instead, I will divide by $p(1)$ to result in the more conventional Legendre polynomials.  **This is not an \"orthonormal\" basis because we have chosen a different normalization, but it is still an *orthogonal* basis.**\n",
    "\n",
    "That means that to get $p_i(x)$, I will do:\n",
    "\n",
    "$$\n",
    "v_i(x) = a_i(x) - \\sum_{j=0}^{i-1} p_j(x) \\frac{p_j \\cdot a_i}{p_j \\cdot p_j}\n",
    "$$\n",
    "\n",
    "We would get an ordinary orthnormal basis of polynomials with\n",
    "\n",
    "$$\n",
    "q_i(x) = v_i(x) / \\Vert v_i \\Vert\n",
    "$$\n",
    "\n",
    "but instead we will use the Legendre normalization\n",
    "\n",
    "$$\n",
    "p_i(x) = v_i(x) / v_i(1)\n",
    "$$\n",
    "\n",
    "\n",
    "where I explicitly divide by $p_i \\cdot p_i$ in the projections to compensate for the lack of normalization.\n",
    "\n",
    "In Julia, I will use the special syntax `2 // 3` to construct the exact rational $\\frac{2}{3}$, etc.  This will allow me to see the exact Legendre polynomials without any roundoff errors or annoying decimals."
   ]
  },
  {
   "cell_type": "code",
   "execution_count": 6,
   "metadata": {},
   "outputs": [
    {
     "data": {
      "text/latex": [
       "$1$"
      ],
      "text/plain": [
       "Poly(1//1)"
      ]
     },
     "execution_count": 6,
     "metadata": {},
     "output_type": "execute_result"
    }
   ],
   "source": [
    "p0 = a0 = Poly([1//1])"
   ]
  },
  {
   "cell_type": "code",
   "execution_count": 7,
   "metadata": {},
   "outputs": [
    {
     "data": {
      "text/latex": [
       "$x$"
      ],
      "text/plain": [
       "Poly(x)"
      ]
     },
     "execution_count": 7,
     "metadata": {},
     "output_type": "execute_result"
    }
   ],
   "source": [
    "a1 = Poly([0, 1//1])"
   ]
  },
  {
   "cell_type": "code",
   "execution_count": 8,
   "metadata": {},
   "outputs": [
    {
     "data": {
      "text/latex": [
       "$x$"
      ],
      "text/plain": [
       "Poly(x)"
      ]
     },
     "execution_count": 8,
     "metadata": {},
     "output_type": "execute_result"
    }
   ],
   "source": [
    "p1 = a1 - p0 * polydot(p0, a1) // polydot(p0, p0)\n",
    "p1 = p1 / p1(1)"
   ]
  },
  {
   "cell_type": "code",
   "execution_count": 9,
   "metadata": {},
   "outputs": [
    {
     "data": {
      "text/html": [
       "0//1"
      ],
      "text/plain": [
       "0//1"
      ]
     },
     "execution_count": 9,
     "metadata": {},
     "output_type": "execute_result"
    }
   ],
   "source": [
    "polydot(p0, a1)"
   ]
  },
  {
   "cell_type": "markdown",
   "metadata": {},
   "source": [
    "Orthogonalization didn't change $x$, because $x$ and $1$ are already orthogonal under this dot product.  In fact, any even power of $x$ is orthogonal to any odd power (because the dot product is the integral of an even function times an odd function).\n",
    "\n",
    "On the other hand, $x^2$ and $1$ are *not* orthogonal, so orthogonalizing them leads to a *different* polynomial of degree 2:"
   ]
  },
  {
   "cell_type": "code",
   "execution_count": 10,
   "metadata": {},
   "outputs": [
    {
     "data": {
      "text/latex": [
       "$x^{2}$"
      ],
      "text/plain": [
       "Poly(x^2)"
      ]
     },
     "execution_count": 10,
     "metadata": {},
     "output_type": "execute_result"
    }
   ],
   "source": [
    "a2 = Poly([0, 0, 1//1])"
   ]
  },
  {
   "cell_type": "code",
   "execution_count": 11,
   "metadata": {},
   "outputs": [
    {
     "data": {
      "text/latex": [
       "$-\\frac{1}{2} + \\frac{3}{2}\\cdot x^{2}$"
      ],
      "text/plain": [
       "Poly(-1//2 + 3//2*x^2)"
      ]
     },
     "execution_count": 11,
     "metadata": {},
     "output_type": "execute_result"
    }
   ],
   "source": [
    "p2 = a2 - p0 * polydot(p0, a2) // polydot(p0, p0) -\n",
    "          p1 * polydot(p1, a2) // polydot(p1, p1)\n",
    "p2 = p2 / p2(1)"
   ]
  },
  {
   "cell_type": "markdown",
   "metadata": {},
   "source": [
    "It quickly gets tiresome to type in these expressions one by one, so let's just write a function to compute the Legendre polynomials $p_0, \\ldots, p_n$:"
   ]
  },
  {
   "cell_type": "code",
   "execution_count": 12,
   "metadata": {},
   "outputs": [
    {
     "data": {
      "text/plain": [
       "legendre_gramschmidt (generic function with 1 method)"
      ]
     },
     "execution_count": 12,
     "metadata": {},
     "output_type": "execute_result"
    }
   ],
   "source": [
    "function legendre_gramschmidt(n)\n",
    "    legendre = [Poly([1//1])]\n",
    "    for i = 1:n\n",
    "        p = Poly([k == i ? 1//1 : 0//1 for k=0:i])\n",
    "        for q in legendre\n",
    "            p = p - q * (polydot(q, p) // polydot(q,q))\n",
    "        end\n",
    "        push!(legendre, p / p(1))\n",
    "    end\n",
    "    return legendre\n",
    "end"
   ]
  },
  {
   "cell_type": "code",
   "execution_count": 13,
   "metadata": {},
   "outputs": [
    {
     "data": {
      "text/plain": [
       "6-element Array{Polynomials.Poly{Rational{Int64}},1}:\n",
       " Poly(1//1)                           \n",
       " Poly(x)                              \n",
       " Poly(-1//2 + 3//2*x^2)               \n",
       " Poly(-3//2*x + 5//2*x^3)             \n",
       " Poly(3//8 - 15//4*x^2 + 35//8*x^4)   \n",
       " Poly(15//8*x - 35//4*x^3 + 63//8*x^5)"
      ]
     },
     "execution_count": 13,
     "metadata": {},
     "output_type": "execute_result"
    }
   ],
   "source": [
    "L = legendre_gramschmidt(5)"
   ]
  },
  {
   "cell_type": "markdown",
   "metadata": {},
   "source": [
    "Let's display them more nicely with LaTeX:"
   ]
  },
  {
   "cell_type": "code",
   "execution_count": 14,
   "metadata": {},
   "outputs": [
    {
     "data": {
      "text/latex": [
       "$1$"
      ]
     },
     "metadata": {},
     "output_type": "display_data"
    },
    {
     "data": {
      "text/latex": [
       "$x$"
      ]
     },
     "metadata": {},
     "output_type": "display_data"
    },
    {
     "data": {
      "text/latex": [
       "$-\\frac{1}{2} + \\frac{3}{2}\\cdot x^{2}$"
      ]
     },
     "metadata": {},
     "output_type": "display_data"
    },
    {
     "data": {
      "text/latex": [
       "$-\\frac{3}{2}\\cdot x + \\frac{5}{2}\\cdot x^{3}$"
      ]
     },
     "metadata": {},
     "output_type": "display_data"
    },
    {
     "data": {
      "text/latex": [
       "$\\frac{3}{8} - \\frac{15}{4}\\cdot x^{2} + \\frac{35}{8}\\cdot x^{4}$"
      ]
     },
     "metadata": {},
     "output_type": "display_data"
    },
    {
     "data": {
      "text/latex": [
       "$\\frac{15}{8}\\cdot x - \\frac{35}{4}\\cdot x^{3} + \\frac{63}{8}\\cdot x^{5}$"
      ]
     },
     "metadata": {},
     "output_type": "display_data"
    }
   ],
   "source": [
    "display.(\"text/latex\", L);"
   ]
  },
  {
   "cell_type": "markdown",
   "metadata": {},
   "source": [
    "Key things to notice:\n",
    "\n",
    "* The polynomials contain *only even* or *only odd* powers of $x$, but not both.  The reason is that the even and odd powers of $x$ are *already* orthogonal under this dot product, as noted above.\n",
    "\n",
    "* A key property of Gram–Schmidt is that the **first k vectors span the same space** as the **original first k vectors**, for any k.   In this case, it means that $p_0, \\ldots, p_k$ span the same space as $1, x, \\ldots, x^k$.  That is, the $p_0, \\ldots, p_k$ polynomials are an **orthogonal basis for all polynomials of degree k or less**.\n",
    "\n",
    "These polynomials are **very special** in many ways.  To get a hint of that, let's plot them:"
   ]
  },
  {
   "cell_type": "code",
   "execution_count": null,
   "metadata": {},
   "outputs": [],
   "source": [
    "leg = []\n",
    "x = linspace(-1, 1, 300)\n",
    "for i in eachindex(L)\n",
    "    plot(x, L[i].(x), \"-\")\n",
    "    push!(leg, \"\\$P_{$(i-1)}(x)\\$\")\n",
    "end\n",
    "plot(x, zeros(x), \"k--\")\n",
    "legend(leg)\n",
    "xlabel(L\"x\")\n",
    "ylabel(\"Legendre polynomials\")"
   ]
  },
  {
   "cell_type": "markdown",
   "metadata": {},
   "source": [
    "Note that $p_n(x)$ has exactly $n$ roots in the interval $[-1,1]$!\n",
    "\n",
    "This is essentially required by the fact that they are orthogonal: $p_n$ has to oscillate in sign faster and faster in $[-1,1]$ as $n$ increases in order to integrate to zero against the previous polynomials."
   ]
  },
  {
   "cell_type": "markdown",
   "metadata": {},
   "source": [
    "### Expanding a polynomial in the Legendre basis.\n",
    "\n",
    "Now that we have an orthogonal (but not orthonormal) basis, it is easy to take an arbitrary polynomial $p(x)$ and write it in this basis:\n",
    "\n",
    "$$\n",
    "    p(x) = \\alpha_0 p_0(x) + \\alpha_1 p_1(x) + \\cdots = \\sum_{i=0}^\\infty \\alpha_i p_i(x)\n",
    "$$\n",
    "\n",
    "because we can get the coefficients $\\alpha_i$ merely by projecting:\n",
    "\n",
    "$$\n",
    "\\alpha_i = \\frac{p_i \\cdot p}{p_i \\cdot p_i}\n",
    "$$\n",
    "\n",
    "Note, however, that this isn't actually an infinite series: if the polynomial $p(x)$ has degree $d$, then $\\alpha_i = 0$ for $i > d$.  The polynomials $p_0, \\ldots, p_d$ are a basis for the subspace of polynomials of degree $d$ (= span of $1, x, \\ldots, x^d$)!\n",
    "\n",
    "Let's see how this works for a \"randomly\" chosen $p(x)$ of degree 5:"
   ]
  },
  {
   "cell_type": "code",
   "execution_count": null,
   "metadata": {},
   "outputs": [],
   "source": [
    "p = Poly([1,3,4,7,2,5])"
   ]
  },
  {
   "cell_type": "markdown",
   "metadata": {},
   "source": [
    "Here are the coefficients α:"
   ]
  },
  {
   "cell_type": "code",
   "execution_count": null,
   "metadata": {},
   "outputs": [],
   "source": [
    "α = [polydot(q,p)/polydot(q,q) for q in L]"
   ]
  },
  {
   "cell_type": "markdown",
   "metadata": {},
   "source": [
    "Let's check that the sum of $\\alpha_i p_i(x)$ gives $p(x)$:"
   ]
  },
  {
   "cell_type": "code",
   "execution_count": null,
   "metadata": {},
   "outputs": [],
   "source": [
    "sum(α .* L) # α[1]*L[1] + α[2]*L[2] + ... + α[6]*L[6]"
   ]
  },
  {
   "cell_type": "code",
   "execution_count": null,
   "metadata": {},
   "outputs": [],
   "source": [
    "sum(α .* L) - p"
   ]
  },
  {
   "cell_type": "markdown",
   "metadata": {},
   "source": [
    "## Polynomial fits\n",
    "\n",
    "### Review: Projections and Least-Square\n",
    "\n",
    "Given a matrix $Q$ with $n$ orthonormal columns $q_i$, we know that the **orthogonal projection** \n",
    "\n",
    "$$\n",
    "p = QQ^T b = \\sum_{i=1}^n q_i q_i^T b\n",
    "$$\n",
    "\n",
    "is the **closest vector** in $C(Q)$ to $b$.  That is, it **minimizes** the distance:\n",
    "\n",
    "$$\n",
    "\\min_{p \\in C(Q)} \\Vert p - b \\Vert \\; .\n",
    "$$"
   ]
  },
  {
   "cell_type": "markdown",
   "metadata": {},
   "source": [
    "### Closest polynomials\n",
    "\n",
    "Now, suppose that we have some function $f(x)$ on $x\\in[-1,1]$ that is *not* a polynomial, and we want to find the **closest polynomial** of degree $n$ to $f(x)$ in the least-square sense.  That is, we want to find the polynomials $p(x)$ of degree $n$ that **minimizes**\n",
    "\n",
    "$$\n",
    "\\min_{p\\in \\mathcal{P}_n} \\int_{-1}^1 |f(x)-p(x)|^2 dx = \n",
    "\\min_{p\\in \\mathcal{P}_n} \\Vert f(x) - p(x) \\Vert^2\n",
    "$$\n",
    "\n",
    "where\n",
    "\n",
    "$$\n",
    "\\mathcal{P}_n = \\operatorname{span} \\{ 1, x, x^2, \\ldots, x^n \\}\n",
    "= \\operatorname{span} \\{ p_0(x), p_1(x), \\ldots, p_n(x) \\}\n",
    "$$\n",
    "\n",
    "is the space of polynomials of degree $\\le n$, spanned by our Legendre polynomials up to degree $n$.\n",
    "\n",
    "Presented in this context, we can see that this is *the same problem*  as our least-square problem above, and the solution should be the same: $p(x)$ is the **orthogonal projection** of $f(x)$ onto $\\mathcal{P}_n$, given by:\n",
    "\n",
    "$$\n",
    "p(x) = p_0(x) \\frac{p_0 \\cdot f}{p_0 \\cdot p_0} + \\cdots \n",
    "       p_n(x) \\frac{p_n \\cdot f}{p_n \\cdot p_n} \\; .\n",
    "$$\n",
    "\n",
    "Let's try this out for $f(x) = e^x$.  Because we're lazy, we'll have Julia compute the integrals numerically using its `quadgk` function, and fit it to polynomials of degree 5 using our Legendre polynomials from above."
   ]
  },
  {
   "cell_type": "code",
   "execution_count": null,
   "metadata": {},
   "outputs": [],
   "source": [
    "polydot(p::Poly, f::Function) = quadgk(x -> p(x)*f(x), -1,1, atol=1e-13, rtol=1e-11)[1]"
   ]
  },
  {
   "cell_type": "markdown",
   "metadata": {},
   "source": [
    "Now, let's use dot products to compute the coefficients in the $p_i(x)$ expansion above for $f(x) = e^x$ (the `exp` function in Julia):"
   ]
  },
  {
   "cell_type": "code",
   "execution_count": null,
   "metadata": {},
   "outputs": [],
   "source": [
    "coeffs = [polydot(p,exp)/polydot(p,p) for p in L]"
   ]
  },
  {
   "cell_type": "markdown",
   "metadata": {},
   "source": [
    "One thing to notice is an important fact: expanding functions, especially [smooth functions](https://en.wikipedia.org/wiki/Smoothness), in orthogonal bases like Legendre polynomials or Fourier series tends to converge very rapidly.\n",
    "\n",
    "Let's write out the resulting polynomial $p(x)$:"
   ]
  },
  {
   "cell_type": "code",
   "execution_count": null,
   "metadata": {},
   "outputs": [],
   "source": [
    "p = sum(coeffs .* L)"
   ]
  },
  {
   "cell_type": "markdown",
   "metadata": {},
   "source": [
    "Let's plot it:"
   ]
  },
  {
   "cell_type": "code",
   "execution_count": null,
   "metadata": {},
   "outputs": [],
   "source": [
    "plot(x, exp.(x), \"r-\")\n",
    "plot(x, p.(x), \"b--\")\n",
    "legend([L\"e^x\", L\"fit $p(x)$\"])\n",
    "xlabel(L\"x\")\n",
    "title(L\"fitting $e^x$ to a degree-5 polynomial\")"
   ]
  },
  {
   "cell_type": "markdown",
   "metadata": {},
   "source": [
    "They are so close that you can hardly tell the difference!\n",
    "\n",
    "Let's plot the fits for degree 0, 1, …, 3 so that we can watch it converge:"
   ]
  },
  {
   "cell_type": "code",
   "execution_count": null,
   "metadata": {},
   "outputs": [],
   "source": [
    "plot(x, exp.(x), \"k--\")\n",
    "for n = 1:4\n",
    "    plot(x, sum([polydot(p,exp)/polydot(p,p) for p in L[1:n]] .* L[1:n]).(x), \"-\")\n",
    "end\n",
    "legend([L\"e^x\", [\"degree $i\" for i=0:3]...])\n",
    "xlabel(L\"x\")\n",
    "title(L\"fitting $e^x$ to polynomials\")"
   ]
  },
  {
   "cell_type": "markdown",
   "metadata": {},
   "source": [
    "By degree 3, it is hard to tell the difference from $e^x$."
   ]
  },
  {
   "cell_type": "markdown",
   "metadata": {},
   "source": [
    "### Fitting a non-smooth function\n",
    "\n",
    "It may not be so surprising that we can fit $e^x$ to polynomials; after all, $e^x$ has a convergent Taylor series, which is also a polynomial. But what we try to fit a *non-smooth* function, such as a **triangle-shape function** $t(x)$?  That is,\n",
    "\n",
    "\n",
    "$$\n",
    "t(x) = 1 - |x|\n",
    "$$\n",
    "\n",
    "(a triangle peaked at $x=0$ and zero at $x=\\pm 1$).  Let's see:"
   ]
  },
  {
   "cell_type": "code",
   "execution_count": null,
   "metadata": {},
   "outputs": [],
   "source": [
    "t(x) = 1 - abs(x)\n",
    "\n",
    "L16 = legendre_gramschmidt(16) # compute a few more terms\n",
    "\n",
    "plot(x, t.(x), \"k--\")\n",
    "N = [1:2:16;]\n",
    "for n in N\n",
    "    plot(x, sum([polydot(p,t)/polydot(p,p) for p in L16[1:n]] .* L16[1:n]).(x), \"-\")\n",
    "end\n",
    "legend([L\"t(x)\", [\"degree $i\" for i in N .- 1]...])\n",
    "xlabel(L\"x\")\n",
    "title(\"fitting a triangle-shape function to polynomials\")"
   ]
  },
  {
   "cell_type": "markdown",
   "metadata": {},
   "source": [
    "It is still converging, just much more slowly!"
   ]
  }
 ],
 "metadata": {
  "kernelspec": {
   "display_name": "Julia 0.6.3",
   "language": "julia",
   "name": "julia-0.6"
  },
  "language_info": {
   "file_extension": ".jl",
   "mimetype": "application/julia",
   "name": "julia",
   "version": "0.6.3"
  }
 },
 "nbformat": 4,
 "nbformat_minor": 2
}
