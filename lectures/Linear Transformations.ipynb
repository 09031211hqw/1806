{
 "cells": [
  {
   "cell_type": "code",
   "execution_count": 47,
   "metadata": {},
   "outputs": [
    {
     "data": {
      "text/plain": [
       "zero (generic function with 18 methods)"
      ]
     },
     "execution_count": 47,
     "metadata": {},
     "output_type": "execute_result"
    }
   ],
   "source": [
    "# Preliminaries: Teach Julia that functions form a vector space\n",
    "import Base.+,Base.*,Base.zero\n",
    "+(f::Function,g::Function) = x -> f(x)+g(x)\n",
    "*(c::Number,f::Function) = x -> c*f(x)\n",
    "*(f::Function,c::Number) = x -> c*f(x)\n",
    "zero(Function) = x -> 0"
   ]
  },
  {
   "cell_type": "markdown",
   "metadata": {},
   "source": [
    "## Example 1: Derivatives of  (a cos x + b sin x) \n",
    "Consider the 2 dimensional vector space consisting of linear combinations of \"sine\" and \"cosine\". How can we take the derivative of a function in this vector space?"
   ]
  },
  {
   "cell_type": "markdown",
   "metadata": {},
   "source": [
    "### Derivatives: Method 1, symbolically.  Matches the paper and pencil method closely."
   ]
  },
  {
   "cell_type": "code",
   "execution_count": 26,
   "metadata": {},
   "outputs": [],
   "source": [
    "using SymPy"
   ]
  },
  {
   "cell_type": "code",
   "execution_count": 39,
   "metadata": {},
   "outputs": [],
   "source": [
    "x,a,b = Sym.([\"x\",\"a\",\"b\"]);"
   ]
  },
  {
   "cell_type": "code",
   "execution_count": 42,
   "metadata": {},
   "outputs": [
    {
     "data": {
      "text/latex": [
       "$$- a \\sin{\\left (x \\right )} + b \\cos{\\left (x \\right )}$$"
      ],
      "text/plain": [
       "-a*sin(x) + b*cos(x)"
      ]
     },
     "execution_count": 42,
     "metadata": {},
     "output_type": "execute_result"
    }
   ],
   "source": [
    "diff( a*cos(x) + b*sin(x) ,x)"
   ]
  },
  {
   "cell_type": "markdown",
   "metadata": {},
   "source": [
    "### Method 2, matrix-vector.  Emphasizes the linear nature of derivatives. (Easy to imagine a numerical implementation.)\n",
    "\n",
    "$\\begin{pmatrix} a' \\\\b' \\end{pmatrix} = \n",
    "\\begin{pmatrix} 0 & 1 \\\\-1 & 0 \\end{pmatrix}\n",
    "\\begin{pmatrix} a \\\\b \\end{pmatrix}$\n",
    "\n",
    "Understanding: $\\begin{pmatrix} a' \\\\b' \\end{pmatrix}$ is shorthand for\n",
    "$a\\cos x + b\\sin x$."
   ]
  },
  {
   "cell_type": "markdown",
   "metadata": {},
   "source": [
    "Example: Differentiate $f(x)=5\\cos x + 2 \\sin x$:\n",
    "1. Encode  f(x) for computation as the vector  $\\begin{pmatrix} 5 \\\\ 2 \\end{pmatrix}.$\n",
    "2. Apply $\\begin{pmatrix} 0 & 1 \\\\-1 & 0 \\end{pmatrix}$\n",
    "to $\\begin{pmatrix} 5 \\\\ 2 \\end{pmatrix}$\n",
    "yielding $\\begin{pmatrix} 2 \\\\ -5 \\end{pmatrix}.$\n",
    "3. Decode $\\begin{pmatrix} 2 \\\\ -5 \\end{pmatrix}$ as\n",
    "$2 \\cos x -5 \\sin x.$"
   ]
  },
  {
   "cell_type": "markdown",
   "metadata": {},
   "source": [
    "###  Method 3: no shorthand.  Combines method 1 and method 2."
   ]
  },
  {
   "cell_type": "markdown",
   "metadata": {},
   "source": [
    "$\\frac{d}{dx} \\begin{pmatrix} \\sin x& \\cos x \\end{pmatrix}\n",
    "\\begin{pmatrix} a \\\\b \\end{pmatrix}\n",
    "=\n",
    "\\begin{pmatrix} \\sin x& \\cos x \\end{pmatrix}\n",
    "\\begin{pmatrix} 0 & -1 \\\\1 & 0 \\end{pmatrix}\n",
    "\\begin{pmatrix} a \\\\b \\end{pmatrix}\n",
    "$"
   ]
  },
  {
   "cell_type": "markdown",
   "metadata": {},
   "source": [
    "Method 2 is purely numerical.  The interpretation is imposed by\n",
    "the human.  Method 3 can be interpreted as method 2 (matrix times vector) with the labels. \n",
    "\n",
    "If one associates differently, Method 3 can be interpeted as knowing\n",
    "the derivative on the basis functions is sufficient for knowing\n",
    "this linear transformation everywhere:\n",
    "\n",
    "$\\frac{d}{dx} \\begin{pmatrix} \\sin x& \\cos x \\end{pmatrix}\n",
    "=\n",
    "\\begin{pmatrix} \\sin x& \\cos x \\end{pmatrix}\n",
    "\\begin{pmatrix} 0 & -1 \\\\1 & 0 \\end{pmatrix}\n",
    "$"
   ]
  },
  {
   "cell_type": "markdown",
   "metadata": {},
   "source": [
    "### Observation:  \n",
    "Method 1 is straightforward but in the end\n",
    "bulky.  Method 2 shows that the linear transformation defined\n",
    "by differentiating can be encoded as a simple matrix times vector,\n",
    "which is very efficient on a computer, and also gets to the algebraic heart of the operation.  Method 3 organizes the symbolic with the matrices in a way that points to the generalization.\n",
    "<br>\n",
    "Most students of calculus learn that differentiation is linear.\n",
    "Derivatives of sums are sums of derivatives ,(f+g)'=f'+g'.  Derivatives of\n",
    "constant multiples are constant multiples of derivatives (cf)'=cf'."
   ]
  },
  {
   "cell_type": "markdown",
   "metadata": {},
   "source": [
    "### With code:"
   ]
  },
  {
   "cell_type": "code",
   "execution_count": 76,
   "metadata": {},
   "outputs": [
    {
     "data": {
      "text/plain": [
       "1×2 Array{Float64,2}:\n",
       " -1.29521  -1.29521"
      ]
     },
     "execution_count": 76,
     "metadata": {},
     "output_type": "execute_result"
    }
   ],
   "source": [
    "f=([sin cos]*[0 1;-1 0]*[5,2])[1]\n",
    "x=rand()\n",
    "[f(x) 2sin(x)-5cos(x)] ## Check that it gives the right function"
   ]
  },
  {
   "cell_type": "markdown",
   "metadata": {},
   "source": [
    "## In general\n",
    "\n",
    "If $v_1,\\ldots,v_n$ is a basis for a vector space $V$, \n",
    "and <br> $w_1,\\ldots,w_m$ is a basis for a vector space $W$,\n",
    "and $T$ is some linear transformation,\n",
    "we can write\n",
    "\n",
    "$$ T[v_1,\\ldots,v_n]\n",
    "\\begin{pmatrix} c_1 \\\\ \\vdots \\\\ c_n \\end{pmatrix}\n",
    "=\n",
    "[w_1,\\ldots,w_m] * A* \\begin{pmatrix} c_1 \\\\ \\vdots  \\\\ c_n \\end{pmatrix}$$\n",
    "for some $m \\times n$ matrix $A$.\n",
    "\n",
    "One can associate the equation above concentrating\n",
    "on\n",
    "$$ T[v_1,\\ldots,v_n]\n",
    "=\n",
    "[w_1,\\ldots,w_m] * A$$\n",
    "\n",
    "\n",
    "to think of\n",
    "$T$ as applied to every basis vector of $V$ to get\n",
    "some linear combination of the basis vectors of $W$,\n",
    "or one can do \"Method 2\" and think of\n",
    "$\\begin{pmatrix} c_1 \\\\ \\vdots \\\\ c_n \\end{pmatrix}$\n",
    "as the coefficients in the basis for $V$, and \n",
    "$A\\begin{pmatrix} c_1 \\\\ \\vdots \\\\ c_n \\end{pmatrix}$\n",
    "as the cooeficients of $Tv$ in the basis for $W$."
   ]
  },
  {
   "cell_type": "markdown",
   "metadata": {},
   "source": [
    "## Example 2:  Shifting (a cos x + b sin x)\n",
    "\n",
    "Convince yourself without matrices that\n",
    "$Tf$ defined by $ (Tf)(x)=f(x+\\theta)$ is linear for\n",
    "any constant $\\theta$.\n",
    "\n",
    "With matrices we have\n",
    "\n",
    "$T  \\begin{pmatrix} \\sin x& \\cos x \\end{pmatrix}\n",
    "=\n",
    "\\begin{pmatrix} \\sin x& \\cos x \\end{pmatrix}\n",
    "\\begin{pmatrix} \\cos \\theta & -\\sin \\theta  \\\\ \\sin \\theta & \\cos \\theta \\end{pmatrix}\n",
    "$\n",
    "or\n",
    "$T  \\begin{pmatrix} \\sin x& \\cos x \\end{pmatrix}\n",
    "\\begin{pmatrix} a \\\\b \\end{pmatrix}\n",
    "=\n",
    "\\begin{pmatrix} \\sin x& \\cos x \\end{pmatrix}\n",
    "\\begin{pmatrix} \\cos \\theta & -\\sin \\theta  \\\\ \\sin \\theta & \\cos \\theta \\end{pmatrix}\n",
    "\\begin{pmatrix} a \\\\b \\end{pmatrix}\n",
    "$\n"
   ]
  },
  {
   "cell_type": "markdown",
   "metadata": {},
   "source": [
    "which can be done symbolically but gets a little messier looking.  The linear algebra is just tidier."
   ]
  },
  {
   "cell_type": "code",
   "execution_count": 87,
   "metadata": {},
   "outputs": [
    {
     "data": {
      "text/latex": [
       "$$a \\sin{\\left (\\theta + x \\right )} + b \\cos{\\left (\\theta + x \\right )}$$"
      ],
      "text/plain": [
       "a*sin(theta + x) + b*cos(theta + x)"
      ]
     },
     "execution_count": 87,
     "metadata": {},
     "output_type": "execute_result"
    }
   ],
   "source": [
    "x = Sym(\"x\")\n",
    "f = a*sin(x) + b*cos(x)\n",
    "Tf = subs(f,x,x+Sym(\"theta\"))"
   ]
  },
  {
   "cell_type": "code",
   "execution_count": 90,
   "metadata": {},
   "outputs": [
    {
     "data": {
      "text/latex": [
       "$$a \\left(\\sin{\\left (\\theta \\right )} \\cos{\\left (x \\right )} + \\sin{\\left (x \\right )} \\cos{\\left (\\theta \\right )}\\right) + b \\left(- \\sin{\\left (\\theta \\right )} \\sin{\\left (x \\right )} + \\cos{\\left (\\theta \\right )} \\cos{\\left (x \\right )}\\right)$$"
      ],
      "text/plain": [
       "a*(sin(theta)*cos(x) + sin(x)*cos(theta)) + b*(-sin(theta)*sin(x) + cos(theta)\n",
       "*cos(x))"
      ]
     },
     "execution_count": 90,
     "metadata": {},
     "output_type": "execute_result"
    }
   ],
   "source": [
    "expand_trig(Tf)"
   ]
  },
  {
   "cell_type": "markdown",
   "metadata": {},
   "source": [
    "Of course Example 1 is a special case of Example 2 because\n",
    "the derivative is the same as shifting by $\\pi/2$ on this very special  vector space."
   ]
  },
  {
   "cell_type": "markdown",
   "metadata": {},
   "source": [
    "## Example 3. Change of basis for polynomials"
   ]
  },
  {
   "cell_type": "markdown",
   "metadata": {},
   "source": [
    "Suppose one wants to work with Laguerre polynomials.\n",
    "Wikipidia can supply the first few of these for us:\n",
    " [Laguerre up to degree 6](https://en.wikipedia.org/wiki/Laguerre_polynomials#The_first_few_polynomials)."
   ]
  },
  {
   "cell_type": "code",
   "execution_count": 99,
   "metadata": {},
   "outputs": [
    {
     "data": {
      "text/plain": [
       "4×4 Array{Float64,2}:\n",
       " 1.0  -1.0   0.5  -0.166667\n",
       " 0.0   1.0  -2.0   1.5     \n",
       " 0.0   0.0   1.0  -3.0     \n",
       " 0.0   0.0   0.0   1.0     "
      ]
     },
     "execution_count": 99,
     "metadata": {},
     "output_type": "execute_result"
    }
   ],
   "source": [
    "A = [\n",
    " 1  -1   1   -1\n",
    " 0   1  -4    9\n",
    " 0   0   2  -18\n",
    " 0   0   0    6]./[1 1 2 6]"
   ]
  },
  {
   "cell_type": "markdown",
   "metadata": {},
   "source": [
    "Check from the Wikipedia article that\n",
    "$[L_0 \\ L_1 \\ L_2 \\ L_3]=[1 \\ x \\ x^2 \\ x^3] * A$"
   ]
  },
  {
   "cell_type": "markdown",
   "metadata": {},
   "source": [
    "Convince yourself that to obtain\n",
    "the coefficients of \n",
    "$c_0 L_0 + c_1 L_1 + c_2 L_2 + c_3 L_3$\n",
    "in the standard basis $1,x,x^2,x^3$\n",
    "one must simply compute\n",
    "$A * \\begin{pmatrix} c_0 \\\\ c_1 \\\\ c_2 \\\\ c_3 \\end{pmatrix}.$\n",
    "\n",
    "<br>\n",
    "\n",
    "Notationally, we are saying that <br>\n",
    "$[L_0 \\ L_1 \\ L_2 \\ L_3]*\\begin{pmatrix} c_0 \\\\ c_1 \\\\ c_2 \\\\ c_3 \\end{pmatrix}=[1 \\ x \\ x^2 \\ x^3] * A*\\begin{pmatrix} c_0 \\\\ c_1 \\\\ c_2 \\\\ c_3 \\end{pmatrix}$"
   ]
  },
  {
   "cell_type": "markdown",
   "metadata": {},
   "source": [
    "Of course inv(A) let's us go the other way\n",
    "(from monomial coefficients to Laguerre coefficients)"
   ]
  },
  {
   "cell_type": "code",
   "execution_count": 102,
   "metadata": {},
   "outputs": [
    {
     "data": {
      "text/plain": [
       "4×4 Array{Float64,2}:\n",
       " 1.0  1.0  1.5  3.16667\n",
       " 0.0  1.0  2.0  4.5    \n",
       " 0.0  0.0  1.0  3.0    \n",
       " 0.0  0.0  0.0  1.0    "
      ]
     },
     "execution_count": 102,
     "metadata": {},
     "output_type": "execute_result"
    }
   ],
   "source": [
    "inv(A)"
   ]
  },
  {
   "cell_type": "markdown",
   "metadata": {},
   "source": [
    "Thus for example <br>\n",
    "$x^4 = (19/6)L_0 + (9/2)L_1 + 3 L_2 + L_3.$"
   ]
  },
  {
   "cell_type": "markdown",
   "metadata": {},
   "source": [
    "What if we want to differentiate quartics written in a Laguerre polynomial basis but we only know how to differentiate in a monomial basis?"
   ]
  },
  {
   "cell_type": "code",
   "execution_count": null,
   "metadata": {},
   "outputs": [],
   "source": []
  }
 ],
 "metadata": {
  "kernelspec": {
   "display_name": "Julia 0.6.0",
   "language": "julia",
   "name": "julia-0.6"
  },
  "language_info": {
   "file_extension": ".jl",
   "mimetype": "application/julia",
   "name": "julia",
   "version": "0.6.0"
  }
 },
 "nbformat": 4,
 "nbformat_minor": 2
}
